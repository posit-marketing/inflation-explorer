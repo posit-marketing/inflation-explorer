{
  "cells": [
    {
      "cell_type": "raw",
      "metadata": {},
      "source": [
        "---\n",
        "title: 'Inflation explorer: showing the change in price for various goods and services'\n",
        "format: \n",
        "  dashboard:\n",
        "    logo: images/logo.png\n",
        "    nav-buttons:\n",
        "      - icon: github\n",
        "        href: https://github.com/posit-marketing\n",
        "---"
      ],
      "id": "6e854055"
    },
    {
      "cell_type": "code",
      "metadata": {},
      "source": [
        "#| label: setup\n",
        "#| include: false\n",
        "import markdown\n",
        "import pins\n",
        "from pins import board_connect\n",
        "import os\n",
        "from dotenv import load_dotenv\n",
        "load_dotenv()\n",
        "import pandas as pd\n",
        "import plotly.express as px\n",
        "import plotly.io as pio\n",
        "import altair as alt\n",
        "from great_tables import GT, md\n",
        "from IPython.display import display, Markdown, Latex\n",
        "\n",
        "connect_server = \"https://colorado.posit.co/rsc\"\n",
        "connect_api_key = os.environ.get(\"CONNECT_API_KEY\")\n",
        "\n",
        "board = board_connect(server_url=connect_server, api_key=connect_api_key)\n",
        "df = board.pin_read(\"isabella.velasquez/bls-cpi-data\")\n",
        "\n",
        "pio.templates.default = \"plotly_white\"\n",
        "\n",
        "# Value for last updated date\n",
        "df[\"Year-Month\"] = pd.to_datetime(df[\"Year-Month\"])\n",
        "last_updated_date = df[\"Year-Month\"].max().strftime(\"%B  %Y\")\n",
        "\n",
        "# Value for the percentage change from the previous month\n",
        "cpi_df = df[df[\"Category\"] == \"CUUR0000SA0\"] # All groups\n",
        "latest_cpi_value = cpi_df[\"value\"].iloc[-1]\n",
        "latest_cpi_percent_change = cpi_df[\"Percent_Change_from_Previous_Month\"].iloc[-1]\n",
        "\n",
        "# Reformatted data for display table\n",
        "pivot_df = df.pivot_table(\n",
        "    index=\"Category_Label\",\n",
        "    columns=\"Year-Month\",\n",
        "    values=\"Percent_Change_from_Previous_Month\",\n",
        "    aggfunc=\"first\",\n",
        ")\n",
        "pivot_df = pivot_df.iloc[:, -5:].iloc[:, ::-1]\n",
        "pivot_df.columns = [pd.to_datetime(col).strftime('%B %Y') for col in pivot_df.columns]\n",
        "pivot_df.reset_index(inplace=True)\n",
        "pivot_df.columns.name = None"
      ],
      "id": "setup",
      "execution_count": null,
      "outputs": []
    },
    {
      "cell_type": "markdown",
      "metadata": {},
      "source": [
        "## Row {height=20%}\n"
      ],
      "id": "0af76ac6"
    },
    {
      "cell_type": "code",
      "metadata": {
        "content": "valuebox",
        "title": "Last updated",
        "color": null
      },
      "source": [
        "#| label: valuebox1\n",
        "last_updated_date"
      ],
      "id": "valuebox1",
      "execution_count": null,
      "outputs": []
    },
    {
      "cell_type": "code",
      "metadata": {
        "content": "valuebox",
        "title": "Consumer Price Index (CPI)",
        "icon": "basket",
        "color": "primary"
      },
      "source": [
        "#| label: valuebox2\n",
        "dict(\n",
        "  value=latest_cpi_value.round(2)\n",
        "  )"
      ],
      "id": "valuebox2",
      "execution_count": null,
      "outputs": []
    },
    {
      "cell_type": "code",
      "metadata": {
        "content": "valuebox",
        "title": "Increase from previous month",
        "icon": "percent",
        "color": "primary"
      },
      "source": [
        "#| label: valuebox3\n",
        "dict(\n",
        "  value = latest_cpi_percent_change.round(2)\n",
        "  )"
      ],
      "id": "valuebox3",
      "execution_count": null,
      "outputs": []
    },
    {
      "cell_type": "markdown",
      "metadata": {},
      "source": [
        "## Row {height=80%}\n",
        "\n",
        "### Column {width=20%}\n",
        "\n",
        "The **Consumer Price Index (CPI)** is a measure of the average change over time in the prices paid by urban consumers for a market basket of consumer goods and services. \n",
        "\n",
        "Indexes are available for the U.S. and various geographic areas. Average price data for select utility, automotive fuel, and food items are also available.\n",
        "\n",
        "Source: \n",
        "\n",
        "Bureau of Labor Statistics\n",
        "\n",
        "### Column {.tabset width=80%}\n"
      ],
      "id": "856fc6b7"
    },
    {
      "cell_type": "code",
      "metadata": {},
      "source": [
        "#| label: pct-change-jan-2018-code\n",
        "#| include: false\n",
        "df = df.sort_values(by=[\"Category_Label\", \"Year-Month\"], ascending=[False, False])\n",
        "\n",
        "fig = px.line(\n",
        "    df,\n",
        "    x=\"Year-Month\",\n",
        "    y=\"Percent_Change_from_January_2018\",\n",
        "    color=\"Category_Label\",\n",
        "    hover_name=\"Category_Label\",\n",
        ")\n",
        "\n",
        "for d in fig[\"data\"]:\n",
        "    if d[\"name\"] == \"All groups CPI\":\n",
        "        d[\"line\"][\"color\"] = \"orange\"\n",
        "        d[\"legendgroup\"] = 1\n",
        "    else:\n",
        "        d[\"line\"][\"color\"] = \"lightgrey\"\n",
        "\n",
        "fig.update_xaxes(title_text=\"\")\n",
        "fig.update_yaxes(title_text=\"\")"
      ],
      "id": "pct-change-jan-2018-code",
      "execution_count": null,
      "outputs": []
    },
    {
      "cell_type": "code",
      "metadata": {
        "title": "Percentage change since Jan 2018"
      },
      "source": [
        "#| label: pct-change-jan-2018-plot\n",
        "display(\n",
        "    Markdown(\n",
        "        \"Use this inflation data explorer to see which goods and services are getting cheaper or more expensive in the U.S.\"\n",
        "    )\n",
        ")\n",
        "fig.show()"
      ],
      "id": "pct-change-jan-2018-plot",
      "execution_count": null,
      "outputs": []
    },
    {
      "cell_type": "code",
      "metadata": {},
      "source": [
        "#| label: pct-change-monthly-code\n",
        "#| include: false\n",
        "latest_month_data = df[df[\"Year-Month\"] == df[\"Year-Month\"].max()]\n",
        "\n",
        "latest_month_data_sorted = latest_month_data.sort_values(\n",
        "    by=\"Percent_Change_from_Previous_Month\", ascending=False\n",
        ")\n",
        "\n",
        "top_six_categories = latest_month_data_sorted.head(6)\n",
        "\n",
        "fig = px.bar(\n",
        "    top_six_categories,\n",
        "    x=\"Category_Label\",\n",
        "    y=\"Percent_Change_from_Previous_Month\",\n",
        "    title=\"\",\n",
        "    color=\"Category_Label\",\n",
        "    color_discrete_sequence=px.colors.sequential.Reds[::-1],\n",
        ")\n",
        "\n",
        "fig.update_layout(\n",
        "    xaxis_title=\"\", yaxis_title=\"Percent Change\", yaxis_tickformat=\"%.1f%%\"\n",
        ")"
      ],
      "id": "pct-change-monthly-code",
      "execution_count": null,
      "outputs": []
    },
    {
      "cell_type": "code",
      "metadata": {
        "title": "Last month's top 6"
      },
      "source": [
        "#| label: pct-change-monthly-plot\n",
        "display(\n",
        "    Markdown(\n",
        "        \"Percentage change in CPI by category for the latest month, top six categories\"\n",
        "    )\n",
        ")\n",
        "fig.show()"
      ],
      "id": "pct-change-monthly-plot",
      "execution_count": null,
      "outputs": []
    },
    {
      "cell_type": "code",
      "metadata": {
        "title": "Monthly changes in prices"
      },
      "source": [
        "#| label: pct-change-monthly-table\n",
        "(\n",
        "    GT(pivot_df)\n",
        "    .tab_header(\n",
        "        title=\"Monthly changes in prices for various categories\",\n",
        "        subtitle=md(\"**Not seasonally adjusted**\"),\n",
        "    )\n",
        "    .cols_label(Category_Label=\"\")\n",
        "    .data_color(\n",
        "        domain=[-10, 10],\n",
        "        palette=[\"orange\", \"white\", \"red\"],\n",
        "        na_color=\"white\",\n",
        "    )\n",
        "    .tab_spanner(\n",
        "        label=\"Time\",\n",
        "        columns=~cs.first()\n",
        "    )\n",
        "    .tab_source_note(source_note=\"Source: Bureau of Labor Statistics\")\n",
        ")"
      ],
      "id": "pct-change-monthly-table",
      "execution_count": null,
      "outputs": []
    }
  ],
  "metadata": {
    "kernelspec": {
      "name": "python3",
      "language": "python",
      "display_name": "Python 3 (ipykernel)"
    }
  },
  "nbformat": 4,
  "nbformat_minor": 5
}